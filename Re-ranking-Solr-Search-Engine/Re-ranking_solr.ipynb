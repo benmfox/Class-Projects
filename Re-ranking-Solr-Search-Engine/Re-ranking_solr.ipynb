{
  "nbformat": 4,
  "nbformat_minor": 0,
  "metadata": {
    "colab": {
      "name": "Info_Ret_Project",
      "version": "0.3.2",
      "provenance": [],
      "collapsed_sections": [
        "e5NOjFUyC1EG"
      ]
    },
    "kernelspec": {
      "name": "python3",
      "display_name": "Python 3"
    }
  },
  "cells": [
    {
      "metadata": {
        "id": "coGFo0VPA692",
        "colab_type": "code",
        "outputId": "7400a13a-63d9-49a9-b23c-6aa027f65697",
        "colab": {
          "base_uri": "https://localhost:8080/",
          "height": 231
        }
      },
      "cell_type": "code",
      "source": [
        "# mount to google drive\n",
        "from google.colab import drive\n",
        "drive.mount('/content/gdrive')\n",
        "#drive.mount(\"/content/gdrive\", force_remount=True)"
      ],
      "execution_count": 0,
      "outputs": [
        {
          "output_type": "stream",
          "text": [
            "Go to this URL in a browser: https://accounts.google.com/o/oauth2/auth?client_id=947318989803-6bn6qk8qdgf4n4g3pfee6491hc0brc4i.apps.googleusercontent.com&redirect_uri=urn%3Aietf%3Awg%3Aoauth%3A2.0%3Aoob&scope=email%20https%3A%2F%2Fwww.googleapis.com%2Fauth%2Fdocs.test%20https%3A%2F%2Fwww.googleapis.com%2Fauth%2Fdrive%20https%3A%2F%2Fwww.googleapis.com%2Fauth%2Fdrive.photos.readonly%20https%3A%2F%2Fwww.googleapis.com%2Fauth%2Fpeopleapi.readonly&response_type=code\n",
            "\n",
            "Enter your authorization code:\n",
            "··········\n",
            "Mounted at /content/gdrive\n"
          ],
          "name": "stdout"
        }
      ]
    },
    {
      "metadata": {
        "id": "_OhcIUYjBD39",
        "colab_type": "code",
        "colab": {}
      },
      "cell_type": "code",
      "source": [
        "# import relevant libraries\n",
        "import pandas as pd\n",
        "import numpy as np\n",
        "import nltk\n",
        "from nltk import tokenize\n",
        "import xml.etree.ElementTree as et\n",
        "import re"
      ],
      "execution_count": 0,
      "outputs": []
    },
    {
      "metadata": {
        "id": "e5NOjFUyC1EG",
        "colab_type": "text"
      },
      "cell_type": "markdown",
      "source": [
        "## Upload Trec XML to Pandas"
      ]
    },
    {
      "metadata": {
        "id": "DeXzcfv9BJPb",
        "colab_type": "code",
        "colab": {}
      },
      "cell_type": "code",
      "source": [
        "with open('./gdrive/My Drive/trec.xml', 'r', encoding ='ISO-8859-1') as f:\n",
        "  xml = et.parse(f)\n",
        "root = xml.getroot()\n",
        "rows = root.findall('DOC')\n",
        "xml_data = []\n",
        "\n",
        "for row in rows:\n",
        "  x = []\n",
        "  x.append(row.find('DOCNO').text if row.find('DOCNO') != None else '')\n",
        "  x.append(\"\".join(row.find('HEADLINE').itertext()) if row.find('HEADLINE') != None else '')\n",
        "  x.append(\"\".join(row.find('TEXT').itertext()) if row.find('TEXT') != None else '')\n",
        "  xml_data.append(x)"
      ],
      "execution_count": 0,
      "outputs": []
    },
    {
      "metadata": {
        "id": "AhQU6082GkUL",
        "colab_type": "code",
        "colab": {}
      },
      "cell_type": "code",
      "source": [
        "# create pandas dataframe\n",
        "df = pd.DataFrame(xml_data, columns = ['DOCNO','HEADLINE','TEXT'])\n",
        "df.DOCNO = df.DOCNO.apply(lambda x: re.sub(' ', '', x))"
      ],
      "execution_count": 0,
      "outputs": []
    },
    {
      "metadata": {
        "id": "ZkBQVUvym0ll",
        "colab_type": "code",
        "colab": {}
      },
      "cell_type": "code",
      "source": [
        "# upload bm25 feature for documents (from trec-demo)\n",
        "bm25 = pd.read_table('./gdrive/My Drive/bm25.out', sep = ' ', header = None)\n",
        "bm25.drop(columns = [1,5], inplace = True)\n",
        "bm25.columns = ['QueryID','DOCNO','Rank','BM25']"
      ],
      "execution_count": 0,
      "outputs": []
    },
    {
      "metadata": {
        "id": "CXi8frO6dkCx",
        "colab_type": "code",
        "colab": {}
      },
      "cell_type": "code",
      "source": [
        "# merge dataframes\n",
        "trec = bm25.merge(df, on = 'DOCNO', how = 'left')"
      ],
      "execution_count": 0,
      "outputs": []
    },
    {
      "metadata": {
        "id": "-kWnRl6_fty0",
        "colab_type": "code",
        "outputId": "d8df5bca-4402-4fa7-c38f-29915ec5e256",
        "colab": {
          "base_uri": "https://localhost:8080/",
          "height": 289
        }
      },
      "cell_type": "code",
      "source": [
        "trec.head()"
      ],
      "execution_count": 0,
      "outputs": [
        {
          "output_type": "execute_result",
          "data": {
            "text/html": [
              "<div>\n",
              "<style scoped>\n",
              "    .dataframe tbody tr th:only-of-type {\n",
              "        vertical-align: middle;\n",
              "    }\n",
              "\n",
              "    .dataframe tbody tr th {\n",
              "        vertical-align: top;\n",
              "    }\n",
              "\n",
              "    .dataframe thead th {\n",
              "        text-align: right;\n",
              "    }\n",
              "</style>\n",
              "<table border=\"1\" class=\"dataframe\">\n",
              "  <thead>\n",
              "    <tr style=\"text-align: right;\">\n",
              "      <th></th>\n",
              "      <th>QueryID</th>\n",
              "      <th>DOCNO</th>\n",
              "      <th>Rank</th>\n",
              "      <th>BM25</th>\n",
              "      <th>HEADLINE</th>\n",
              "      <th>TEXT</th>\n",
              "    </tr>\n",
              "  </thead>\n",
              "  <tbody>\n",
              "    <tr>\n",
              "      <th>0</th>\n",
              "      <td>301</td>\n",
              "      <td>FBIS4-40260</td>\n",
              "      <td>0</td>\n",
              "      <td>14.361519</td>\n",
              "      <td></td>\n",
              "      <td>\\nBFN \\n\\n [Unattributed report: \"President Ta...</td>\n",
              "    </tr>\n",
              "    <tr>\n",
              "      <th>1</th>\n",
              "      <td>301</td>\n",
              "      <td>FBIS3-23986</td>\n",
              "      <td>1</td>\n",
              "      <td>14.029036</td>\n",
              "      <td></td>\n",
              "      <td>\\nLanguage:  Russian \\nArticle Type:CSO \\n\\n [...</td>\n",
              "    </tr>\n",
              "    <tr>\n",
              "      <th>2</th>\n",
              "      <td>301</td>\n",
              "      <td>FBIS4-41991</td>\n",
              "      <td>2</td>\n",
              "      <td>14.015088</td>\n",
              "      <td></td>\n",
              "      <td>\\nBFN \\n\\n [Report by Vladimir Nadein: \"FBI Is...</td>\n",
              "    </tr>\n",
              "    <tr>\n",
              "      <th>3</th>\n",
              "      <td>301</td>\n",
              "      <td>FBIS4-39330</td>\n",
              "      <td>3</td>\n",
              "      <td>13.984800</td>\n",
              "      <td></td>\n",
              "      <td>\\nBFN \\n\\n [Edict No. 1016 of the Russian Fede...</td>\n",
              "    </tr>\n",
              "    <tr>\n",
              "      <th>4</th>\n",
              "      <td>301</td>\n",
              "      <td>FBIS4-7811</td>\n",
              "      <td>4</td>\n",
              "      <td>13.845624</td>\n",
              "      <td></td>\n",
              "      <td>\\nCSO \\n\\n [Article by Zoran Petrov: \"The Thie...</td>\n",
              "    </tr>\n",
              "  </tbody>\n",
              "</table>\n",
              "</div>"
            ],
            "text/plain": [
              "   QueryID        DOCNO  Rank       BM25 HEADLINE  \\\n",
              "0      301  FBIS4-40260     0  14.361519            \n",
              "1      301  FBIS3-23986     1  14.029036            \n",
              "2      301  FBIS4-41991     2  14.015088            \n",
              "3      301  FBIS4-39330     3  13.984800            \n",
              "4      301   FBIS4-7811     4  13.845624            \n",
              "\n",
              "                                                TEXT  \n",
              "0  \\nBFN \\n\\n [Unattributed report: \"President Ta...  \n",
              "1  \\nLanguage:  Russian \\nArticle Type:CSO \\n\\n [...  \n",
              "2  \\nBFN \\n\\n [Report by Vladimir Nadein: \"FBI Is...  \n",
              "3  \\nBFN \\n\\n [Edict No. 1016 of the Russian Fede...  \n",
              "4  \\nCSO \\n\\n [Article by Zoran Petrov: \"The Thie...  "
            ]
          },
          "metadata": {
            "tags": []
          },
          "execution_count": 8
        }
      ]
    },
    {
      "metadata": {
        "id": "4QC7SjEPEomm",
        "colab_type": "code",
        "outputId": "afeea330-5874-428d-b287-6b64ff4e0380",
        "colab": {
          "base_uri": "https://localhost:8080/",
          "height": 204
        }
      },
      "cell_type": "code",
      "source": [
        "# upload relevancy data\n",
        "relv = pd.read_table('./gdrive/My Drive/qrels.trec6-8.nocr', sep = ' ', header = None)\n",
        "relv.drop(columns = 1, inplace = True)\n",
        "relv.columns = ['QueryID', 'DOCNO', 'Label']\n",
        "relv.head()"
      ],
      "execution_count": 0,
      "outputs": [
        {
          "output_type": "execute_result",
          "data": {
            "text/html": [
              "<div>\n",
              "<style scoped>\n",
              "    .dataframe tbody tr th:only-of-type {\n",
              "        vertical-align: middle;\n",
              "    }\n",
              "\n",
              "    .dataframe tbody tr th {\n",
              "        vertical-align: top;\n",
              "    }\n",
              "\n",
              "    .dataframe thead th {\n",
              "        text-align: right;\n",
              "    }\n",
              "</style>\n",
              "<table border=\"1\" class=\"dataframe\">\n",
              "  <thead>\n",
              "    <tr style=\"text-align: right;\">\n",
              "      <th></th>\n",
              "      <th>QueryID</th>\n",
              "      <th>DOCNO</th>\n",
              "      <th>Label</th>\n",
              "    </tr>\n",
              "  </thead>\n",
              "  <tbody>\n",
              "    <tr>\n",
              "      <th>0</th>\n",
              "      <td>301</td>\n",
              "      <td>FBIS3-10082</td>\n",
              "      <td>1</td>\n",
              "    </tr>\n",
              "    <tr>\n",
              "      <th>1</th>\n",
              "      <td>301</td>\n",
              "      <td>FBIS3-10169</td>\n",
              "      <td>0</td>\n",
              "    </tr>\n",
              "    <tr>\n",
              "      <th>2</th>\n",
              "      <td>301</td>\n",
              "      <td>FBIS3-10243</td>\n",
              "      <td>1</td>\n",
              "    </tr>\n",
              "    <tr>\n",
              "      <th>3</th>\n",
              "      <td>301</td>\n",
              "      <td>FBIS3-10319</td>\n",
              "      <td>0</td>\n",
              "    </tr>\n",
              "    <tr>\n",
              "      <th>4</th>\n",
              "      <td>301</td>\n",
              "      <td>FBIS3-10397</td>\n",
              "      <td>1</td>\n",
              "    </tr>\n",
              "  </tbody>\n",
              "</table>\n",
              "</div>"
            ],
            "text/plain": [
              "   QueryID        DOCNO  Label\n",
              "0      301  FBIS3-10082      1\n",
              "1      301  FBIS3-10169      0\n",
              "2      301  FBIS3-10243      1\n",
              "3      301  FBIS3-10319      0\n",
              "4      301  FBIS3-10397      1"
            ]
          },
          "metadata": {
            "tags": []
          },
          "execution_count": 9
        }
      ]
    },
    {
      "metadata": {
        "id": "nECSHnAUFnGI",
        "colab_type": "code",
        "colab": {}
      },
      "cell_type": "code",
      "source": [
        "# merge with trec and fill nas with 0\n",
        "trec = trec.merge(relv, how = 'left', on =['QueryID', 'DOCNO'])\n",
        "trec.Label.fillna(0,inplace = True)"
      ],
      "execution_count": 0,
      "outputs": []
    },
    {
      "metadata": {
        "id": "40f3EMmZgJNM",
        "colab_type": "code",
        "outputId": "7fcca419-db71-4d7a-c252-018482e7d954",
        "colab": {
          "base_uri": "https://localhost:8080/",
          "height": 204
        }
      },
      "cell_type": "code",
      "source": [
        "# upload queries\n",
        "arr =[]\n",
        "with open('./gdrive/My Drive/title-queries.301-450', 'r') as g:\n",
        "  for line in g.readlines():\n",
        "    x = []\n",
        "    line = line.split(' ')\n",
        "    x.append(line[0])\n",
        "    x.append(\" \".join(line[1:]).strip('\\n'))\n",
        "    arr.append(x)\n",
        "queries = pd.DataFrame(arr, columns = ['QueryID','QueryText'])\n",
        "queries.head()"
      ],
      "execution_count": 0,
      "outputs": [
        {
          "output_type": "execute_result",
          "data": {
            "text/html": [
              "<div>\n",
              "<style scoped>\n",
              "    .dataframe tbody tr th:only-of-type {\n",
              "        vertical-align: middle;\n",
              "    }\n",
              "\n",
              "    .dataframe tbody tr th {\n",
              "        vertical-align: top;\n",
              "    }\n",
              "\n",
              "    .dataframe thead th {\n",
              "        text-align: right;\n",
              "    }\n",
              "</style>\n",
              "<table border=\"1\" class=\"dataframe\">\n",
              "  <thead>\n",
              "    <tr style=\"text-align: right;\">\n",
              "      <th></th>\n",
              "      <th>QueryID</th>\n",
              "      <th>QueryText</th>\n",
              "    </tr>\n",
              "  </thead>\n",
              "  <tbody>\n",
              "    <tr>\n",
              "      <th>0</th>\n",
              "      <td>301</td>\n",
              "      <td>International Organized Crime</td>\n",
              "    </tr>\n",
              "    <tr>\n",
              "      <th>1</th>\n",
              "      <td>302</td>\n",
              "      <td>Poliomyelitis and Post Polio</td>\n",
              "    </tr>\n",
              "    <tr>\n",
              "      <th>2</th>\n",
              "      <td>303</td>\n",
              "      <td>Hubble Telescope Achievements</td>\n",
              "    </tr>\n",
              "    <tr>\n",
              "      <th>3</th>\n",
              "      <td>304</td>\n",
              "      <td>Endangered Species  Mammals</td>\n",
              "    </tr>\n",
              "    <tr>\n",
              "      <th>4</th>\n",
              "      <td>305</td>\n",
              "      <td>Most Dangerous Vehicles</td>\n",
              "    </tr>\n",
              "  </tbody>\n",
              "</table>\n",
              "</div>"
            ],
            "text/plain": [
              "  QueryID                       QueryText\n",
              "0     301  International Organized Crime \n",
              "1     302   Poliomyelitis and Post Polio \n",
              "2     303  Hubble Telescope Achievements \n",
              "3     304   Endangered Species  Mammals  \n",
              "4     305        Most Dangerous Vehicles "
            ]
          },
          "metadata": {
            "tags": []
          },
          "execution_count": 11
        }
      ]
    },
    {
      "metadata": {
        "id": "z3wu2PELRmqO",
        "colab_type": "code",
        "colab": {}
      },
      "cell_type": "code",
      "source": [
        "# init a snowball stemmer (Porter2 Stemmer)\n",
        "snow = nltk.SnowballStemmer('english')"
      ],
      "execution_count": 0,
      "outputs": []
    },
    {
      "metadata": {
        "id": "-xPoa7XCWNDm",
        "colab_type": "code",
        "colab": {}
      },
      "cell_type": "code",
      "source": [
        "nltk.download(\"popular\") #may need to re-download this... "
      ],
      "execution_count": 0,
      "outputs": []
    },
    {
      "metadata": {
        "id": "MJcMhFxQK35G",
        "colab_type": "code",
        "colab": {}
      },
      "cell_type": "code",
      "source": [
        "import string\n",
        "from tqdm import tqdm\n",
        "tqdm.pandas() # to time apply functions\n",
        "translator = str.maketrans('', '', string.punctuation) # for removing punctuation\n",
        "from nltk.corpus import stopwords\n",
        "stopwords = list(stopwords.words('english'))"
      ],
      "execution_count": 0,
      "outputs": []
    },
    {
      "metadata": {
        "id": "js0olkM6JnLc",
        "colab_type": "code",
        "colab": {}
      },
      "cell_type": "code",
      "source": [
        "# clean text function\n",
        "def clean_text(text):\n",
        "  x = text.lower()\n",
        "  x = x.translate(translator) # remove punctuation\n",
        "  x= re.sub('[0-9]','',x) # remove numbers\n",
        "  x = nltk.word_tokenize(x) # tokenize\n",
        "  filtered = []\n",
        "  for i in range(len(x)):\n",
        "    if x[i] not in stopwords:\n",
        "      filtered.append(snow.stem(x[i])) # remove stopwords\n",
        "  filtered = \" \".join(filtered)\n",
        "  return filtered"
      ],
      "execution_count": 0,
      "outputs": []
    },
    {
      "metadata": {
        "id": "fRpTSp31J3Vy",
        "colab_type": "code",
        "colab": {}
      },
      "cell_type": "code",
      "source": [
        "trec.TEXT = trec.TEXT.apply(lambda x: clean_text(x))"
      ],
      "execution_count": 0,
      "outputs": []
    },
    {
      "metadata": {
        "id": "3jgtmlibPOLP",
        "colab_type": "code",
        "colab": {}
      },
      "cell_type": "code",
      "source": [
        "trec.HEADLINE = trec.HEADLINE.apply(lambda x: clean_text(x))"
      ],
      "execution_count": 0,
      "outputs": []
    },
    {
      "metadata": {
        "id": "8MoH395hXlmT",
        "colab_type": "code",
        "colab": {}
      },
      "cell_type": "code",
      "source": [
        "queries.QueryText = queries.QueryText.apply(lambda x: clean_text(x))\n",
        "queries.QueryID = queries.QueryID.astype('int')"
      ],
      "execution_count": 0,
      "outputs": []
    },
    {
      "metadata": {
        "colab_type": "code",
        "id": "rHFxzsYbInyw",
        "colab": {}
      },
      "cell_type": "code",
      "source": [
        "trec.to_pickle('./gdrive/My Drive/trec_tokenized')\n",
        "queries.to_pickle('./gdrive/My Drive/queries_cleaned')"
      ],
      "execution_count": 0,
      "outputs": []
    },
    {
      "metadata": {
        "id": "f2boiG8Cx9aV",
        "colab_type": "text"
      },
      "cell_type": "markdown",
      "source": [
        "## Feature Extraction"
      ]
    },
    {
      "metadata": {
        "id": "kIrYcpDFOd5I",
        "colab_type": "code",
        "colab": {}
      },
      "cell_type": "code",
      "source": [
        "from sklearn.feature_extraction.text import TfidfVectorizer\n",
        "from tqdm import tqdm\n",
        "tqdm.pandas()"
      ],
      "execution_count": 0,
      "outputs": []
    },
    {
      "metadata": {
        "colab_type": "code",
        "id": "2YfDSerqIm4r",
        "colab": {}
      },
      "cell_type": "code",
      "source": [
        "trec_tokenized = pd.read_pickle('./gdrive/My Drive/trec_tokenized')\n",
        "queries_cleaned = pd.read_pickle('./gdrive/My Drive/queries_cleaned')"
      ],
      "execution_count": 0,
      "outputs": []
    },
    {
      "metadata": {
        "id": "SZ8THrS5pOOu",
        "colab_type": "code",
        "outputId": "905605f3-cd0c-4ecc-ee7c-66b33ac7804a",
        "colab": {
          "base_uri": "https://localhost:8080/",
          "height": 374
        }
      },
      "cell_type": "code",
      "source": [
        "trec_tokenized.head()"
      ],
      "execution_count": 0,
      "outputs": [
        {
          "output_type": "execute_result",
          "data": {
            "text/html": [
              "<div>\n",
              "<style scoped>\n",
              "    .dataframe tbody tr th:only-of-type {\n",
              "        vertical-align: middle;\n",
              "    }\n",
              "\n",
              "    .dataframe tbody tr th {\n",
              "        vertical-align: top;\n",
              "    }\n",
              "\n",
              "    .dataframe thead th {\n",
              "        text-align: right;\n",
              "    }\n",
              "</style>\n",
              "<table border=\"1\" class=\"dataframe\">\n",
              "  <thead>\n",
              "    <tr style=\"text-align: right;\">\n",
              "      <th></th>\n",
              "      <th>QueryID</th>\n",
              "      <th>DOCNO</th>\n",
              "      <th>Rank</th>\n",
              "      <th>BM25</th>\n",
              "      <th>HEADLINE</th>\n",
              "      <th>TEXT</th>\n",
              "      <th>Label</th>\n",
              "    </tr>\n",
              "  </thead>\n",
              "  <tbody>\n",
              "    <tr>\n",
              "      <th>0</th>\n",
              "      <td>301</td>\n",
              "      <td>FBIS4-40260</td>\n",
              "      <td>0</td>\n",
              "      <td>14.361519</td>\n",
              "      <td></td>\n",
              "      <td>bfn unattribut report presid take emerg measur...</td>\n",
              "      <td>0.0</td>\n",
              "    </tr>\n",
              "    <tr>\n",
              "      <th>1</th>\n",
              "      <td>301</td>\n",
              "      <td>FBIS3-23986</td>\n",
              "      <td>1</td>\n",
              "      <td>14.029036</td>\n",
              "      <td></td>\n",
              "      <td>languag russian articl typecso unattribut repo...</td>\n",
              "      <td>1.0</td>\n",
              "    </tr>\n",
              "    <tr>\n",
              "      <th>2</th>\n",
              "      <td>301</td>\n",
              "      <td>FBIS4-41991</td>\n",
              "      <td>2</td>\n",
              "      <td>14.015088</td>\n",
              "      <td></td>\n",
              "      <td>bfn report vladimir nadein fbi readi take russ...</td>\n",
              "      <td>0.0</td>\n",
              "    </tr>\n",
              "    <tr>\n",
              "      <th>3</th>\n",
              "      <td>301</td>\n",
              "      <td>FBIS4-39330</td>\n",
              "      <td>3</td>\n",
              "      <td>13.984800</td>\n",
              "      <td></td>\n",
              "      <td>bfn edict russian feder presid urgent measur i...</td>\n",
              "      <td>0.0</td>\n",
              "    </tr>\n",
              "    <tr>\n",
              "      <th>4</th>\n",
              "      <td>301</td>\n",
              "      <td>FBIS4-7811</td>\n",
              "      <td>4</td>\n",
              "      <td>13.845624</td>\n",
              "      <td></td>\n",
              "      <td>cso articl zoran petrov thiev among usw among ...</td>\n",
              "      <td>1.0</td>\n",
              "    </tr>\n",
              "  </tbody>\n",
              "</table>\n",
              "</div>"
            ],
            "text/plain": [
              "   QueryID        DOCNO  Rank       BM25 HEADLINE  \\\n",
              "0      301  FBIS4-40260     0  14.361519            \n",
              "1      301  FBIS3-23986     1  14.029036            \n",
              "2      301  FBIS4-41991     2  14.015088            \n",
              "3      301  FBIS4-39330     3  13.984800            \n",
              "4      301   FBIS4-7811     4  13.845624            \n",
              "\n",
              "                                                TEXT  Label  \n",
              "0  bfn unattribut report presid take emerg measur...    0.0  \n",
              "1  languag russian articl typecso unattribut repo...    1.0  \n",
              "2  bfn report vladimir nadein fbi readi take russ...    0.0  \n",
              "3  bfn edict russian feder presid urgent measur i...    0.0  \n",
              "4  cso articl zoran petrov thiev among usw among ...    1.0  "
            ]
          },
          "metadata": {
            "tags": []
          },
          "execution_count": 13
        }
      ]
    },
    {
      "metadata": {
        "id": "TWYrL9__Y_EP",
        "colab_type": "code",
        "colab": {}
      },
      "cell_type": "code",
      "source": [
        "# get idf\n",
        "tfidf = TfidfVectorizer()\n",
        "tf_matrix = tfidf.fit_transform(trec_tokenized.TEXT)\n",
        "features = pd.Series(tfidf.get_feature_names())\n",
        "query_words = pd.Series(' '.join(queries_cleaned.QueryText.values.tolist()).split())"
      ],
      "execution_count": 0,
      "outputs": []
    },
    {
      "metadata": {
        "id": "1s7Xjov7psrt",
        "colab_type": "code",
        "colab": {}
      },
      "cell_type": "code",
      "source": [
        "queries_idf = {}\n",
        "for i in queries_cleaned.QueryText.values.tolist():\n",
        "  idf = 0\n",
        "  for word in i.split():\n",
        "    if (word in tfidf.vocabulary_.keys()):\n",
        "      index = tfidf.vocabulary_[word]\n",
        "      idf += tfidf.idf_[index]\n",
        "  queries_idf[i] = idf.tolist()"
      ],
      "execution_count": 0,
      "outputs": []
    },
    {
      "metadata": {
        "id": "hBwPRSX7rRao",
        "colab_type": "code",
        "colab": {}
      },
      "cell_type": "code",
      "source": [
        "queries_cleaned['IDF']= queries_cleaned['QueryText'].map(queries_idf)"
      ],
      "execution_count": 0,
      "outputs": []
    },
    {
      "metadata": {
        "id": "D2ExoPoptxWm",
        "colab_type": "code",
        "outputId": "ed208ded-e94c-40ae-b5e7-7af9d1ff74b7",
        "colab": {
          "base_uri": "https://localhost:8080/",
          "height": 204
        }
      },
      "cell_type": "code",
      "source": [
        "queries_cleaned.head()"
      ],
      "execution_count": 0,
      "outputs": [
        {
          "output_type": "execute_result",
          "data": {
            "text/html": [
              "<div>\n",
              "<style scoped>\n",
              "    .dataframe tbody tr th:only-of-type {\n",
              "        vertical-align: middle;\n",
              "    }\n",
              "\n",
              "    .dataframe tbody tr th {\n",
              "        vertical-align: top;\n",
              "    }\n",
              "\n",
              "    .dataframe thead th {\n",
              "        text-align: right;\n",
              "    }\n",
              "</style>\n",
              "<table border=\"1\" class=\"dataframe\">\n",
              "  <thead>\n",
              "    <tr style=\"text-align: right;\">\n",
              "      <th></th>\n",
              "      <th>QueryID</th>\n",
              "      <th>QueryText</th>\n",
              "      <th>IDF</th>\n",
              "    </tr>\n",
              "  </thead>\n",
              "  <tbody>\n",
              "    <tr>\n",
              "      <th>0</th>\n",
              "      <td>301</td>\n",
              "      <td>intern organ crime</td>\n",
              "      <td>9.174897</td>\n",
              "    </tr>\n",
              "    <tr>\n",
              "      <th>1</th>\n",
              "      <td>302</td>\n",
              "      <td>poliomyel post polio</td>\n",
              "      <td>19.941773</td>\n",
              "    </tr>\n",
              "    <tr>\n",
              "      <th>2</th>\n",
              "      <td>303</td>\n",
              "      <td>hubbl telescop achiev</td>\n",
              "      <td>16.931413</td>\n",
              "    </tr>\n",
              "    <tr>\n",
              "      <th>3</th>\n",
              "      <td>304</td>\n",
              "      <td>endang speci mammal</td>\n",
              "      <td>15.217784</td>\n",
              "    </tr>\n",
              "    <tr>\n",
              "      <th>4</th>\n",
              "      <td>305</td>\n",
              "      <td>danger vehicl</td>\n",
              "      <td>7.352948</td>\n",
              "    </tr>\n",
              "  </tbody>\n",
              "</table>\n",
              "</div>"
            ],
            "text/plain": [
              "   QueryID              QueryText        IDF\n",
              "0      301     intern organ crime   9.174897\n",
              "1      302   poliomyel post polio  19.941773\n",
              "2      303  hubbl telescop achiev  16.931413\n",
              "3      304    endang speci mammal  15.217784\n",
              "4      305          danger vehicl   7.352948"
            ]
          },
          "metadata": {
            "tags": []
          },
          "execution_count": 19
        }
      ]
    },
    {
      "metadata": {
        "id": "og_BAoBftNJP",
        "colab_type": "code",
        "colab": {}
      },
      "cell_type": "code",
      "source": [
        "trec_tokenized = trec_tokenized.merge(queries_cleaned[['QueryID', 'IDF']], on = 'QueryID', how= 'left')"
      ],
      "execution_count": 0,
      "outputs": []
    },
    {
      "metadata": {
        "id": "MtBk6ij8tm9s",
        "colab_type": "code",
        "outputId": "da2e53a4-ecc8-4363-e302-084e892adb8f",
        "colab": {
          "base_uri": "https://localhost:8080/",
          "height": 510
        }
      },
      "cell_type": "code",
      "source": [
        "trec_tokenized.head()"
      ],
      "execution_count": 0,
      "outputs": [
        {
          "output_type": "execute_result",
          "data": {
            "text/html": [
              "<div>\n",
              "<style scoped>\n",
              "    .dataframe tbody tr th:only-of-type {\n",
              "        vertical-align: middle;\n",
              "    }\n",
              "\n",
              "    .dataframe tbody tr th {\n",
              "        vertical-align: top;\n",
              "    }\n",
              "\n",
              "    .dataframe thead th {\n",
              "        text-align: right;\n",
              "    }\n",
              "</style>\n",
              "<table border=\"1\" class=\"dataframe\">\n",
              "  <thead>\n",
              "    <tr style=\"text-align: right;\">\n",
              "      <th></th>\n",
              "      <th>QueryID</th>\n",
              "      <th>DOCNO</th>\n",
              "      <th>Rank</th>\n",
              "      <th>BM25</th>\n",
              "      <th>HEADLINE</th>\n",
              "      <th>TEXT</th>\n",
              "      <th>Label</th>\n",
              "      <th>IDF</th>\n",
              "    </tr>\n",
              "  </thead>\n",
              "  <tbody>\n",
              "    <tr>\n",
              "      <th>0</th>\n",
              "      <td>301</td>\n",
              "      <td>FBIS4-40260</td>\n",
              "      <td>0</td>\n",
              "      <td>14.361519</td>\n",
              "      <td></td>\n",
              "      <td>bfn unattribut report presid take emerg measur...</td>\n",
              "      <td>0.0</td>\n",
              "      <td>9.174897</td>\n",
              "    </tr>\n",
              "    <tr>\n",
              "      <th>1</th>\n",
              "      <td>301</td>\n",
              "      <td>FBIS3-23986</td>\n",
              "      <td>1</td>\n",
              "      <td>14.029036</td>\n",
              "      <td></td>\n",
              "      <td>languag russian articl typecso unattribut repo...</td>\n",
              "      <td>1.0</td>\n",
              "      <td>9.174897</td>\n",
              "    </tr>\n",
              "    <tr>\n",
              "      <th>2</th>\n",
              "      <td>301</td>\n",
              "      <td>FBIS4-41991</td>\n",
              "      <td>2</td>\n",
              "      <td>14.015088</td>\n",
              "      <td></td>\n",
              "      <td>bfn report vladimir nadein fbi readi take russ...</td>\n",
              "      <td>0.0</td>\n",
              "      <td>9.174897</td>\n",
              "    </tr>\n",
              "    <tr>\n",
              "      <th>3</th>\n",
              "      <td>301</td>\n",
              "      <td>FBIS4-39330</td>\n",
              "      <td>3</td>\n",
              "      <td>13.984800</td>\n",
              "      <td></td>\n",
              "      <td>bfn edict russian feder presid urgent measur i...</td>\n",
              "      <td>0.0</td>\n",
              "      <td>9.174897</td>\n",
              "    </tr>\n",
              "    <tr>\n",
              "      <th>4</th>\n",
              "      <td>301</td>\n",
              "      <td>FBIS4-7811</td>\n",
              "      <td>4</td>\n",
              "      <td>13.845624</td>\n",
              "      <td></td>\n",
              "      <td>cso articl zoran petrov thiev among usw among ...</td>\n",
              "      <td>1.0</td>\n",
              "      <td>9.174897</td>\n",
              "    </tr>\n",
              "  </tbody>\n",
              "</table>\n",
              "</div>"
            ],
            "text/plain": [
              "   QueryID        DOCNO  Rank       BM25 HEADLINE  \\\n",
              "0      301  FBIS4-40260     0  14.361519            \n",
              "1      301  FBIS3-23986     1  14.029036            \n",
              "2      301  FBIS4-41991     2  14.015088            \n",
              "3      301  FBIS4-39330     3  13.984800            \n",
              "4      301   FBIS4-7811     4  13.845624            \n",
              "\n",
              "                                                TEXT  Label       IDF  \n",
              "0  bfn unattribut report presid take emerg measur...    0.0  9.174897  \n",
              "1  languag russian articl typecso unattribut repo...    1.0  9.174897  \n",
              "2  bfn report vladimir nadein fbi readi take russ...    0.0  9.174897  \n",
              "3  bfn edict russian feder presid urgent measur i...    0.0  9.174897  \n",
              "4  cso articl zoran petrov thiev among usw among ...    1.0  9.174897  "
            ]
          },
          "metadata": {
            "tags": []
          },
          "execution_count": 21
        }
      ]
    },
    {
      "metadata": {
        "id": "CtYS7e6cu4_8",
        "colab_type": "code",
        "colab": {}
      },
      "cell_type": "code",
      "source": [
        "# document length and headline length\n",
        "trec_tokenized['doc_length'] = trec_tokenized.TEXT.apply(lambda x: len(x.split()))\n",
        "trec_tokenized['headline_length'] = trec_tokenized.HEADLINE.apply(lambda x: len(x.split()))"
      ],
      "execution_count": 0,
      "outputs": []
    },
    {
      "metadata": {
        "id": "AwmPxfXguV4t",
        "colab_type": "text"
      },
      "cell_type": "markdown",
      "source": [
        "$${\\displaystyle {\\text{score}}(D,Q)=\\sum _{i=1}^{n}{\\text{IDF}}(q_{i})\\cdot {\\frac {f(q_{i},D)\\cdot (k_{1}+1)}{f(q_{i},D)+k_{1}\\cdot \\left(1-b+b\\cdot {\\frac {|D|}{\\text{avgdl}}}\\right)}},}$$"
      ]
    },
    {
      "metadata": {
        "id": "wbX2byXV1oP4",
        "colab_type": "code",
        "colab": {}
      },
      "cell_type": "code",
      "source": [
        "# get query term frequencies in documents\n",
        "def term_freq(text, query_id):\n",
        "  q_text = queries_cleaned.QueryText.loc[queries_cleaned.QueryID == query_id].values[0].split()\n",
        "  x = 0 # query freq\n",
        "  for i in q_text:\n",
        "    x += text.count(i)\n",
        "  if (len(text.split()) != 0):\n",
        "    x = x / len(text.split())\n",
        "  return x"
      ],
      "execution_count": 0,
      "outputs": []
    },
    {
      "metadata": {
        "id": "_zA7BeHr4jMm",
        "colab_type": "code",
        "colab": {}
      },
      "cell_type": "code",
      "source": [
        "# term_freq\n",
        "trec_tokenized['term_freq'] = trec_tokenized.apply(lambda x: term_freq(x.TEXT, x.QueryID), axis = 1)"
      ],
      "execution_count": 0,
      "outputs": []
    },
    {
      "metadata": {
        "id": "ixoVm3FVV06X",
        "colab_type": "code",
        "colab": {}
      },
      "cell_type": "code",
      "source": [
        "\n",
        "# get bm25\n",
        "def bm25(text, query_id, idf, idf_index, avg_length):\n",
        "  q_text = queries_cleaned.QueryText.loc[queries_cleaned.QueryID == query_id].values[0].split()\n",
        "  x = 0 # query freq\n",
        "  k = 1.2\n",
        "  b = 0.75\n",
        "  score = 0 # bm25 score\n",
        "  for i in q_text:\n",
        "    x += text.count(i)\n",
        "    if (i in idf_index.keys()):  # use average over query set of either headline or document length\n",
        "      score += idf[idf_index[i]] * (x * (k+1)) / (x + k * (1 - b + b * len(text.split()) / avg_length)) \n",
        "  return score"
      ],
      "execution_count": 0,
      "outputs": []
    },
    {
      "metadata": {
        "id": "djZxpSLAhgSh",
        "colab_type": "code",
        "colab": {}
      },
      "cell_type": "code",
      "source": [
        "headline_avg_length = np.mean(trec_tokenized.headline_length)\n",
        "doc_length_avg = np.mean(trec_tokenized.doc_length)"
      ],
      "execution_count": 0,
      "outputs": []
    },
    {
      "metadata": {
        "id": "3dHyBg2RV0Qd",
        "colab_type": "code",
        "outputId": "d46b513f-7bc9-4f3f-8a01-f83cca6f89ab",
        "colab": {
          "base_uri": "https://localhost:8080/",
          "height": 34
        }
      },
      "cell_type": "code",
      "source": [
        "trec_tokenized['bm25_new'] = trec_tokenized.progress_apply(lambda x: bm25(x.TEXT, x.QueryID, tfidf.idf_, tfidf.vocabulary_, doc_length_avg), axis = 1)"
      ],
      "execution_count": 0,
      "outputs": [
        {
          "output_type": "stream",
          "text": [
            "100%|██████████| 142250/142250 [10:40<00:00, 222.06it/s]\n"
          ],
          "name": "stderr"
        }
      ]
    },
    {
      "metadata": {
        "id": "HTAzfB7kap-_",
        "colab_type": "code",
        "outputId": "ccb92281-a212-4248-92c5-bfcb2a8a269d",
        "colab": {
          "base_uri": "https://localhost:8080/",
          "height": 717
        }
      },
      "cell_type": "code",
      "source": [
        "trec_tokenized.head()"
      ],
      "execution_count": 0,
      "outputs": [
        {
          "output_type": "execute_result",
          "data": {
            "text/html": [
              "<div>\n",
              "<style scoped>\n",
              "    .dataframe tbody tr th:only-of-type {\n",
              "        vertical-align: middle;\n",
              "    }\n",
              "\n",
              "    .dataframe tbody tr th {\n",
              "        vertical-align: top;\n",
              "    }\n",
              "\n",
              "    .dataframe thead th {\n",
              "        text-align: right;\n",
              "    }\n",
              "</style>\n",
              "<table border=\"1\" class=\"dataframe\">\n",
              "  <thead>\n",
              "    <tr style=\"text-align: right;\">\n",
              "      <th></th>\n",
              "      <th>QueryID</th>\n",
              "      <th>DOCNO</th>\n",
              "      <th>Rank</th>\n",
              "      <th>BM25</th>\n",
              "      <th>HEADLINE</th>\n",
              "      <th>TEXT</th>\n",
              "      <th>Label</th>\n",
              "      <th>IDF</th>\n",
              "      <th>doc_length</th>\n",
              "      <th>headline_length</th>\n",
              "      <th>bm25_new</th>\n",
              "    </tr>\n",
              "  </thead>\n",
              "  <tbody>\n",
              "    <tr>\n",
              "      <th>0</th>\n",
              "      <td>301</td>\n",
              "      <td>FBIS4-40260</td>\n",
              "      <td>0</td>\n",
              "      <td>14.361519</td>\n",
              "      <td></td>\n",
              "      <td>bfn unattribut report presid take emerg measur...</td>\n",
              "      <td>0.0</td>\n",
              "      <td>9.174897</td>\n",
              "      <td>424</td>\n",
              "      <td>0</td>\n",
              "      <td>18.756679</td>\n",
              "    </tr>\n",
              "    <tr>\n",
              "      <th>1</th>\n",
              "      <td>301</td>\n",
              "      <td>FBIS3-23986</td>\n",
              "      <td>1</td>\n",
              "      <td>14.029036</td>\n",
              "      <td></td>\n",
              "      <td>languag russian articl typecso unattribut repo...</td>\n",
              "      <td>1.0</td>\n",
              "      <td>9.174897</td>\n",
              "      <td>524</td>\n",
              "      <td>0</td>\n",
              "      <td>18.085296</td>\n",
              "    </tr>\n",
              "    <tr>\n",
              "      <th>2</th>\n",
              "      <td>301</td>\n",
              "      <td>FBIS4-41991</td>\n",
              "      <td>2</td>\n",
              "      <td>14.015088</td>\n",
              "      <td></td>\n",
              "      <td>bfn report vladimir nadein fbi readi take russ...</td>\n",
              "      <td>0.0</td>\n",
              "      <td>9.174897</td>\n",
              "      <td>626</td>\n",
              "      <td>0</td>\n",
              "      <td>18.119430</td>\n",
              "    </tr>\n",
              "    <tr>\n",
              "      <th>3</th>\n",
              "      <td>301</td>\n",
              "      <td>FBIS4-39330</td>\n",
              "      <td>3</td>\n",
              "      <td>13.984800</td>\n",
              "      <td></td>\n",
              "      <td>bfn edict russian feder presid urgent measur i...</td>\n",
              "      <td>0.0</td>\n",
              "      <td>9.174897</td>\n",
              "      <td>903</td>\n",
              "      <td>0</td>\n",
              "      <td>18.905747</td>\n",
              "    </tr>\n",
              "    <tr>\n",
              "      <th>4</th>\n",
              "      <td>301</td>\n",
              "      <td>FBIS4-7811</td>\n",
              "      <td>4</td>\n",
              "      <td>13.845624</td>\n",
              "      <td></td>\n",
              "      <td>cso articl zoran petrov thiev among usw among ...</td>\n",
              "      <td>1.0</td>\n",
              "      <td>9.174897</td>\n",
              "      <td>1157</td>\n",
              "      <td>0</td>\n",
              "      <td>17.818419</td>\n",
              "    </tr>\n",
              "  </tbody>\n",
              "</table>\n",
              "</div>"
            ],
            "text/plain": [
              "   QueryID        DOCNO  Rank       BM25 HEADLINE  \\\n",
              "0      301  FBIS4-40260     0  14.361519            \n",
              "1      301  FBIS3-23986     1  14.029036            \n",
              "2      301  FBIS4-41991     2  14.015088            \n",
              "3      301  FBIS4-39330     3  13.984800            \n",
              "4      301   FBIS4-7811     4  13.845624            \n",
              "\n",
              "                                                TEXT  Label       IDF  \\\n",
              "0  bfn unattribut report presid take emerg measur...    0.0  9.174897   \n",
              "1  languag russian articl typecso unattribut repo...    1.0  9.174897   \n",
              "2  bfn report vladimir nadein fbi readi take russ...    0.0  9.174897   \n",
              "3  bfn edict russian feder presid urgent measur i...    0.0  9.174897   \n",
              "4  cso articl zoran petrov thiev among usw among ...    1.0  9.174897   \n",
              "\n",
              "   doc_length  headline_length   bm25_new  \n",
              "0         424                0  18.756679  \n",
              "1         524                0  18.085296  \n",
              "2         626                0  18.119430  \n",
              "3         903                0  18.905747  \n",
              "4        1157                0  17.818419  "
            ]
          },
          "metadata": {
            "tags": []
          },
          "execution_count": 33
        }
      ]
    },
    {
      "metadata": {
        "id": "7_Hz15RE5rD8",
        "colab_type": "code",
        "colab": {}
      },
      "cell_type": "code",
      "source": [
        "# headline term frequency\n",
        "trec_tokenized['headline_term_freq'] = trec_tokenized.apply(lambda x: term_freq(x.HEADLINE, x.QueryID), axis = 1)\n",
        "trec_tokenized['bm25_headline'] = trec_tokenized.apply(lambda x: bm25(x.HEADLINE, x.QueryID, tfidf.idf_, tfidf.vocabulary_, headline_avg_length), axis = 1)"
      ],
      "execution_count": 0,
      "outputs": []
    },
    {
      "metadata": {
        "id": "RIPKsaaXVMQ7",
        "colab_type": "code",
        "colab": {}
      },
      "cell_type": "code",
      "source": [
        "# tf-idf headline and text\n",
        "trec_tokenized['tfidf_text'] = trec_tokenized.apply(lambda x: x.term_freq * x.IDF, axis = 1)\n",
        "trec_tokenized['tfidf_headline'] = trec_tokenized.apply(lambda x: x.headline_term_freq * x.IDF, axis = 1)"
      ],
      "execution_count": 0,
      "outputs": []
    },
    {
      "metadata": {
        "id": "pCFX1TXCeVqK",
        "colab_type": "code",
        "outputId": "666a7b52-420f-4271-a4df-bc94147d74a4",
        "colab": {
          "base_uri": "https://localhost:8080/",
          "height": 777
        }
      },
      "cell_type": "code",
      "source": [
        "trec_tokenized.head()"
      ],
      "execution_count": 0,
      "outputs": [
        {
          "output_type": "execute_result",
          "data": {
            "text/html": [
              "<div>\n",
              "<style scoped>\n",
              "    .dataframe tbody tr th:only-of-type {\n",
              "        vertical-align: middle;\n",
              "    }\n",
              "\n",
              "    .dataframe tbody tr th {\n",
              "        vertical-align: top;\n",
              "    }\n",
              "\n",
              "    .dataframe thead th {\n",
              "        text-align: right;\n",
              "    }\n",
              "</style>\n",
              "<table border=\"1\" class=\"dataframe\">\n",
              "  <thead>\n",
              "    <tr style=\"text-align: right;\">\n",
              "      <th></th>\n",
              "      <th>QueryID</th>\n",
              "      <th>DOCNO</th>\n",
              "      <th>Rank</th>\n",
              "      <th>BM25</th>\n",
              "      <th>HEADLINE</th>\n",
              "      <th>TEXT</th>\n",
              "      <th>Label</th>\n",
              "      <th>IDF</th>\n",
              "      <th>doc_length</th>\n",
              "      <th>headline_length</th>\n",
              "      <th>bm25_new</th>\n",
              "      <th>headline_term_freq</th>\n",
              "      <th>bm25_headline</th>\n",
              "      <th>term_freq</th>\n",
              "      <th>tfidf_text</th>\n",
              "      <th>tfidf_headline</th>\n",
              "    </tr>\n",
              "  </thead>\n",
              "  <tbody>\n",
              "    <tr>\n",
              "      <th>0</th>\n",
              "      <td>301</td>\n",
              "      <td>FBIS4-40260</td>\n",
              "      <td>0</td>\n",
              "      <td>14.361519</td>\n",
              "      <td></td>\n",
              "      <td>bfn unattribut report presid take emerg measur...</td>\n",
              "      <td>0.0</td>\n",
              "      <td>9.174897</td>\n",
              "      <td>424</td>\n",
              "      <td>0</td>\n",
              "      <td>18.756679</td>\n",
              "      <td>0.0</td>\n",
              "      <td>0.0</td>\n",
              "      <td>0.089623</td>\n",
              "      <td>0.822279</td>\n",
              "      <td>0.0</td>\n",
              "    </tr>\n",
              "    <tr>\n",
              "      <th>1</th>\n",
              "      <td>301</td>\n",
              "      <td>FBIS3-23986</td>\n",
              "      <td>1</td>\n",
              "      <td>14.029036</td>\n",
              "      <td></td>\n",
              "      <td>languag russian articl typecso unattribut repo...</td>\n",
              "      <td>1.0</td>\n",
              "      <td>9.174897</td>\n",
              "      <td>524</td>\n",
              "      <td>0</td>\n",
              "      <td>18.085296</td>\n",
              "      <td>0.0</td>\n",
              "      <td>0.0</td>\n",
              "      <td>0.099237</td>\n",
              "      <td>0.910486</td>\n",
              "      <td>0.0</td>\n",
              "    </tr>\n",
              "    <tr>\n",
              "      <th>2</th>\n",
              "      <td>301</td>\n",
              "      <td>FBIS4-41991</td>\n",
              "      <td>2</td>\n",
              "      <td>14.015088</td>\n",
              "      <td></td>\n",
              "      <td>bfn report vladimir nadein fbi readi take russ...</td>\n",
              "      <td>0.0</td>\n",
              "      <td>9.174897</td>\n",
              "      <td>626</td>\n",
              "      <td>0</td>\n",
              "      <td>18.119430</td>\n",
              "      <td>0.0</td>\n",
              "      <td>0.0</td>\n",
              "      <td>0.063898</td>\n",
              "      <td>0.586255</td>\n",
              "      <td>0.0</td>\n",
              "    </tr>\n",
              "    <tr>\n",
              "      <th>3</th>\n",
              "      <td>301</td>\n",
              "      <td>FBIS4-39330</td>\n",
              "      <td>3</td>\n",
              "      <td>13.984800</td>\n",
              "      <td></td>\n",
              "      <td>bfn edict russian feder presid urgent measur i...</td>\n",
              "      <td>0.0</td>\n",
              "      <td>9.174897</td>\n",
              "      <td>903</td>\n",
              "      <td>0</td>\n",
              "      <td>18.905747</td>\n",
              "      <td>0.0</td>\n",
              "      <td>0.0</td>\n",
              "      <td>0.063123</td>\n",
              "      <td>0.579146</td>\n",
              "      <td>0.0</td>\n",
              "    </tr>\n",
              "    <tr>\n",
              "      <th>4</th>\n",
              "      <td>301</td>\n",
              "      <td>FBIS4-7811</td>\n",
              "      <td>4</td>\n",
              "      <td>13.845624</td>\n",
              "      <td></td>\n",
              "      <td>cso articl zoran petrov thiev among usw among ...</td>\n",
              "      <td>1.0</td>\n",
              "      <td>9.174897</td>\n",
              "      <td>1157</td>\n",
              "      <td>0</td>\n",
              "      <td>17.818419</td>\n",
              "      <td>0.0</td>\n",
              "      <td>0.0</td>\n",
              "      <td>0.064823</td>\n",
              "      <td>0.594743</td>\n",
              "      <td>0.0</td>\n",
              "    </tr>\n",
              "  </tbody>\n",
              "</table>\n",
              "</div>"
            ],
            "text/plain": [
              "   QueryID        DOCNO  Rank       BM25 HEADLINE  \\\n",
              "0      301  FBIS4-40260     0  14.361519            \n",
              "1      301  FBIS3-23986     1  14.029036            \n",
              "2      301  FBIS4-41991     2  14.015088            \n",
              "3      301  FBIS4-39330     3  13.984800            \n",
              "4      301   FBIS4-7811     4  13.845624            \n",
              "\n",
              "                                                TEXT  Label       IDF  \\\n",
              "0  bfn unattribut report presid take emerg measur...    0.0  9.174897   \n",
              "1  languag russian articl typecso unattribut repo...    1.0  9.174897   \n",
              "2  bfn report vladimir nadein fbi readi take russ...    0.0  9.174897   \n",
              "3  bfn edict russian feder presid urgent measur i...    0.0  9.174897   \n",
              "4  cso articl zoran petrov thiev among usw among ...    1.0  9.174897   \n",
              "\n",
              "   doc_length  headline_length   bm25_new  headline_term_freq  bm25_headline  \\\n",
              "0         424                0  18.756679                 0.0            0.0   \n",
              "1         524                0  18.085296                 0.0            0.0   \n",
              "2         626                0  18.119430                 0.0            0.0   \n",
              "3         903                0  18.905747                 0.0            0.0   \n",
              "4        1157                0  17.818419                 0.0            0.0   \n",
              "\n",
              "   term_freq  tfidf_text  tfidf_headline  \n",
              "0   0.089623    0.822279             0.0  \n",
              "1   0.099237    0.910486             0.0  \n",
              "2   0.063898    0.586255             0.0  \n",
              "3   0.063123    0.579146             0.0  \n",
              "4   0.064823    0.594743             0.0  "
            ]
          },
          "metadata": {
            "tags": []
          },
          "execution_count": 39
        }
      ]
    },
    {
      "metadata": {
        "id": "_lE-o0A9B3gX",
        "colab_type": "code",
        "colab": {}
      },
      "cell_type": "code",
      "source": [
        "# bigram query frequency function\n",
        "def bigram_freq(text, query_id):\n",
        "  q_text = queries_cleaned.QueryText.loc[queries_cleaned.QueryID == query_id].values[0].split()\n",
        "  temp = []\n",
        "  for i in range(len(q_text)-1):\n",
        "    temp.append(q_text[i] + ' ' + q_text[i+1])\n",
        "  x = 0\n",
        "  for i in temp:\n",
        "    x += text.count(i)\n",
        "  if (len(text.split()) != 0):\n",
        "    x = x / len(text.split())\n",
        "  return x"
      ],
      "execution_count": 0,
      "outputs": []
    },
    {
      "metadata": {
        "id": "9YnwXIelDiOL",
        "colab_type": "code",
        "colab": {}
      },
      "cell_type": "code",
      "source": [
        "# bigram query frequency on documents\n",
        "trec_tokenized['bigram_freq'] = trec_tokenized.apply(lambda x: bigram_freq(x.TEXT, x.QueryID), axis = 1)"
      ],
      "execution_count": 0,
      "outputs": []
    },
    {
      "metadata": {
        "id": "8cA7gUZEEUyP",
        "colab_type": "code",
        "colab": {}
      },
      "cell_type": "code",
      "source": [
        "# query frequency function\n",
        "def query_freq(text, query_id):\n",
        "  q_text = queries_cleaned.QueryText.loc[queries_cleaned.QueryID == query_id].values[0]\n",
        "  x = text.count(q_text)\n",
        "  if (len(text.split()) != 0):\n",
        "    x = x / len(text.split())\n",
        "  return x    \n"
      ],
      "execution_count": 0,
      "outputs": []
    },
    {
      "metadata": {
        "id": "t9a2_eRUJ7DS",
        "colab_type": "code",
        "colab": {}
      },
      "cell_type": "code",
      "source": [
        "# query frequency on trec documents\n",
        "trec_tokenized['query_freq'] = trec_tokenized.apply(lambda x: query_freq(x.TEXT, x.QueryID), axis = 1)"
      ],
      "execution_count": 0,
      "outputs": []
    },
    {
      "metadata": {
        "id": "H4q-n_U7LTOs",
        "colab_type": "code",
        "colab": {}
      },
      "cell_type": "code",
      "source": [
        "# has headline 0/1 binary feature\n",
        "trec_tokenized['has_headline'] = [int(trec_tokenized.HEADLINE[i] != '') for i in range(len(trec_tokenized.HEADLINE))]"
      ],
      "execution_count": 0,
      "outputs": []
    },
    {
      "metadata": {
        "id": "DCqkZNJuJvhC",
        "colab_type": "code",
        "colab": {}
      },
      "cell_type": "code",
      "source": [
        "# get average or minimum distance from query\n",
        "from scipy.spatial import distance\n",
        "def get_min_avg_distance(text, query_id, min_or_avg):\n",
        "  q_text = queries_cleaned.QueryText.loc[queries_cleaned.QueryID == query_id].values[0].split()\n",
        "  x = {}\n",
        "  for word in q_text:\n",
        "      x[word] = []\n",
        "  for j,y in enumerate(text.split()):\n",
        "    for word in q_text:\n",
        "      if y == word:\n",
        "        x[word].append([j])\n",
        "  min_dist = []\n",
        "  for word in range(len(q_text)):\n",
        "      for c in range(word+1, len(q_text)):\n",
        "        if(len(x[q_text[word]]) != 0 and len(x[q_text[c]]) != 0):\n",
        "          min_dist.append(distance.cdist(x[q_text[word]],x[q_text[c]]).min())  \n",
        "  avg = sum(min_dist)/len(q_text)\n",
        "  mini = min(min_dist) if len(min_dist) > 0 else 0\n",
        "  if (min_or_avg == 'min'):\n",
        "    return mini\n",
        "  if (min_or_avg == 'avg'):\n",
        "    return avg"
      ],
      "execution_count": 0,
      "outputs": []
    },
    {
      "metadata": {
        "id": "UaI1rAjpLElf",
        "colab_type": "code",
        "colab": {}
      },
      "cell_type": "code",
      "source": [
        "# get min distance\n",
        "trec_tokenized['Min_Dist'] = trec_tokenized.apply(lambda x: get_min_avg_distance(x.TEXT, x.QueryID, 'min'), axis = 1)"
      ],
      "execution_count": 0,
      "outputs": []
    },
    {
      "metadata": {
        "id": "18nkCnhCL7J6",
        "colab_type": "code",
        "colab": {}
      },
      "cell_type": "code",
      "source": [
        "# get avg distance\n",
        "trec_tokenized['Avg_Dist'] = trec_tokenized.apply(lambda x: get_min_avg_distance(x.TEXT, x.QueryID, 'avg'), axis = 1)"
      ],
      "execution_count": 0,
      "outputs": []
    },
    {
      "metadata": {
        "id": "jUMIgckvMIPQ",
        "colab_type": "code",
        "colab": {}
      },
      "cell_type": "code",
      "source": [
        "trec_tokenized.to_pickle('./gdrive/My Drive/trec_feature_df')"
      ],
      "execution_count": 0,
      "outputs": []
    },
    {
      "metadata": {
        "id": "8R3xbbIyHod4",
        "colab_type": "code",
        "outputId": "a5d87f43-bd47-4598-82fd-652e77e4a074",
        "colab": {
          "base_uri": "https://localhost:8080/",
          "height": 122
        }
      },
      "cell_type": "code",
      "source": [
        "trec_tokenized.columns"
      ],
      "execution_count": 0,
      "outputs": [
        {
          "output_type": "execute_result",
          "data": {
            "text/plain": [
              "Index(['QueryID', 'DOCNO', 'Rank', 'BM25', 'HEADLINE', 'TEXT', 'Label', 'IDF',\n",
              "       'doc_length', 'headline_length', 'bm25_new', 'headline_term_freq',\n",
              "       'bm25_headline', 'term_freq', 'tfidf_text', 'tfidf_headline',\n",
              "       'bigram_freq', 'query_freq', 'has_headline', 'Min_Dist', 'Avg_Dist'],\n",
              "      dtype='object')"
            ]
          },
          "metadata": {
            "tags": []
          },
          "execution_count": 54
        }
      ]
    },
    {
      "metadata": {
        "id": "3_vxYjGDMLp4",
        "colab_type": "code",
        "colab": {}
      },
      "cell_type": "code",
      "source": [
        "# write data  function\n",
        "def write_fold(file, df):\n",
        "  for i,j in df.iterrows(): \n",
        "    f.write('%d qid:%d 1:%s 2:%s 3:%s 4:%s 5:%s 6:%s 7:%s 8:%s 9:%s 10:%s 11:%s 12:%s 13:%s 14:%s 15:%s # docid = %s\\n' % \n",
        "            (j.Label, j.QueryID, j.BM25, j.bm25_new, j.IDF, j.doc_length, j.headline_length, j.headline_term_freq, j.bm25_headline, j.term_freq, j.tfidf_text, \n",
        "                            j.tfidf_headline, j.bigram_freq, j.query_freq, j.has_headline, j.Min_Dist, j.Avg_Dist, j.DOCNO))"
      ],
      "execution_count": 0,
      "outputs": []
    },
    {
      "metadata": {
        "id": "YkHoazjhMMOL",
        "colab_type": "code",
        "colab": {}
      },
      "cell_type": "code",
      "source": [
        "# write data to five folds\n",
        "query_range = np.arange(301,480, 30)\n",
        "for i in range(len(query_range)-1):\n",
        "  with open('./gdrive/My Drive/trec_feature'+str(i)+\".txt\", 'w') as f:\n",
        "    write_fold(f, trec_tokenized.loc[trec_tokenized.QueryID.isin(list(range(query_range[i],query_range[i+1])))])"
      ],
      "execution_count": 0,
      "outputs": []
    },
    {
      "metadata": {
        "id": "gymnGaTxK89-",
        "colab_type": "text"
      },
      "cell_type": "markdown",
      "source": [
        "## Feature Visualization"
      ]
    },
    {
      "metadata": {
        "id": "WNaB-03gEDkB",
        "colab_type": "code",
        "colab": {}
      },
      "cell_type": "code",
      "source": [
        "trec_tokenized = pd.read_pickle('./gdrive/My Drive/trec_feature_df')"
      ],
      "execution_count": 0,
      "outputs": []
    },
    {
      "metadata": {
        "id": "sphKMi05XvvU",
        "colab_type": "code",
        "colab": {}
      },
      "cell_type": "code",
      "source": [
        "import pandas as pd\n",
        "import numpy as np\n",
        "import matplotlib.pyplot as plt\n",
        "% matplotlib inline"
      ],
      "execution_count": 0,
      "outputs": []
    },
    {
      "metadata": {
        "id": "AhkEUYI8jV6Q",
        "colab_type": "code",
        "colab": {}
      },
      "cell_type": "code",
      "source": [
        "# bigram query frequency function\n",
        "def no_normalization_bigram_freq(text, query_id):\n",
        "  q_text = queries_cleaned.QueryText.loc[queries_cleaned.QueryID == query_id].values[0].split()\n",
        "  temp = []\n",
        "  for i in range(len(q_text)-1):\n",
        "    temp.append(q_text[i] + ' ' + q_text[i+1])\n",
        "  x = 0\n",
        "  for i in temp:\n",
        "    x += text.count(i)\n",
        "  return x"
      ],
      "execution_count": 0,
      "outputs": []
    },
    {
      "metadata": {
        "id": "3yeHi6NwjMXm",
        "colab_type": "code",
        "colab": {}
      },
      "cell_type": "code",
      "source": [
        "bigram_freq = trec_tokenized.apply(lambda x: no_normalization_bigram_freq(x.TEXT, x.QueryID), axis = 1)"
      ],
      "execution_count": 0,
      "outputs": []
    },
    {
      "metadata": {
        "id": "4VCQ_d44En2R",
        "colab_type": "code",
        "outputId": "11a691d2-766a-4132-eb9d-862bf07d29a5",
        "colab": {
          "base_uri": "https://localhost:8080/",
          "height": 370
        }
      },
      "cell_type": "code",
      "source": [
        "plt.figure(figsize =(7,5))\n",
        "plt.hist(bigram_freq[bigram_freq>0], bins = 100, log = True)\n",
        "plt.title('Bigram Frequency Histogram', size = 15)\n",
        "plt.xlabel('Log Document Length', size = 12)"
      ],
      "execution_count": 0,
      "outputs": [
        {
          "output_type": "execute_result",
          "data": {
            "text/plain": [
              "Text(0.5,0,'Log Document Length')"
            ]
          },
          "metadata": {
            "tags": []
          },
          "execution_count": 78
        },
        {
          "output_type": "display_data",
          "data": {
            "image/png": "[encoded data removed]",
            "text/plain": [
              "<matplotlib.figure.Figure at 0x7fca439455f8>"
            ]
          },
          "metadata": {
            "tags": []
          }
        }
      ]
    },
    {
      "metadata": {
        "id": "67PkJqSgEg6v",
        "colab_type": "code",
        "outputId": "b66970ff-d5bf-49b5-cb30-49feb07a2535",
        "colab": {
          "base_uri": "https://localhost:8080/",
          "height": 370
        }
      },
      "cell_type": "code",
      "source": [
        "plt.figure(figsize =(7,5))\n",
        "plt.hist(trec_tokenized.Min_Dist.loc[trec_tokenized.Min_Dist > 0].values, bins = 100, log = True)\n",
        "plt.title('Log Distrubution of Minimum Distance Between Queries', size = 15)\n",
        "plt.xlabel('Minimum Distance', size = 12)"
      ],
      "execution_count": 0,
      "outputs": [
        {
          "output_type": "execute_result",
          "data": {
            "text/plain": [
              "Text(0.5,0,'Minimum Distance')"
            ]
          },
          "metadata": {
            "tags": []
          },
          "execution_count": 13
        },
        {
          "output_type": "display_data",
          "data": {
            "image/png": "[encoded data removed]",
            "text/plain": [
              "<matplotlib.figure.Figure at 0x7f0887600e10>"
            ]
          },
          "metadata": {
            "tags": []
          }
        }
      ]
    },
    {
      "metadata": {
        "id": "Us7tuQm2GtNF",
        "colab_type": "code",
        "outputId": "e76f4fb1-468b-4284-9e50-940630ab9674",
        "colab": {
          "base_uri": "https://localhost:8080/",
          "height": 370
        }
      },
      "cell_type": "code",
      "source": [
        "plt.figure(figsize =(7,5))\n",
        "plt.hist(trec_tokenized.bigram_freq.loc[trec_tokenized.bigram_freq > 0].values, bins = 100, log = False)\n",
        "plt.title('Log Distrubution of Bigram Frequency Between Queries', size = 15)\n",
        "plt.xlabel('Bigram Frequency', size = 12)"
      ],
      "execution_count": 0,
      "outputs": [
        {
          "output_type": "execute_result",
          "data": {
            "text/plain": [
              "Text(0.5,0,'Bigram Frequency')"
            ]
          },
          "metadata": {
            "tags": []
          },
          "execution_count": 14
        },
        {
          "output_type": "display_data",
          "data": {
            "image/png": "[encoded data removed]",
            "text/plain": [
              "<matplotlib.figure.Figure at 0x7f7c58cd50f0>"
            ]
          },
          "metadata": {
            "tags": []
          }
        }
      ]
    },
    {
      "metadata": {
        "id": "kPSRsKjYqyMQ",
        "colab_type": "code",
        "outputId": "354739cb-0356-4ffd-8855-f566c8b58eac",
        "colab": {
          "base_uri": "https://localhost:8080/",
          "height": 34
        }
      },
      "cell_type": "code",
      "source": [
        "np.mean(trec_tokenized.doc_length)"
      ],
      "execution_count": 0,
      "outputs": [
        {
          "output_type": "execute_result",
          "data": {
            "text/plain": [
              "352.08614411247805"
            ]
          },
          "metadata": {
            "tags": []
          },
          "execution_count": 17
        }
      ]
    },
    {
      "metadata": {
        "id": "_Uz-1BoQrGZj",
        "colab_type": "code",
        "outputId": "68996803-f622-4e29-d63f-658c672ea3ad",
        "colab": {
          "base_uri": "https://localhost:8080/",
          "height": 34
        }
      },
      "cell_type": "code",
      "source": [
        "len(trec_tokenized.DOCNO)"
      ],
      "execution_count": 0,
      "outputs": [
        {
          "output_type": "execute_result",
          "data": {
            "text/plain": [
              "142250"
            ]
          },
          "metadata": {
            "tags": []
          },
          "execution_count": 18
        }
      ]
    },
    {
      "metadata": {
        "id": "KIXuxRueZt_5",
        "colab_type": "code",
        "outputId": "c4133fc8-e924-4a24-d0a8-415a92d599fc",
        "colab": {
          "base_uri": "https://localhost:8080/",
          "height": 282
        }
      },
      "cell_type": "code",
      "source": [
        "plt.plot(trec_tokenized.Min_Dist.loc[(trec_tokenized.bigram_freq > 0) & (trec_tokenized.Min_Dist > 1)].values, trec_tokenized.bigram_freq.loc[(trec_tokenized.bigram_freq >0) & (trec_tokenized.Min_Dist > 1)].values, 'o')"
      ],
      "execution_count": 0,
      "outputs": [
        {
          "output_type": "execute_result",
          "data": {
            "text/plain": [
              "[<matplotlib.lines.Line2D at 0x7ff211762e80>]"
            ]
          },
          "metadata": {
            "tags": []
          },
          "execution_count": 65
        },
        {
          "output_type": "display_data",
          "data": {
            "image/png": "[encoded data removed]",
            "text/plain": [
              "<matplotlib.figure.Figure at 0x7ff2109abe80>"
            ]
          },
          "metadata": {
            "tags": []
          }
        }
      ]
    },
    {
      "metadata": {
        "id": "mju_2SKgH9sp",
        "colab_type": "code",
        "outputId": "abce9d9d-56fb-4568-a569-d2ccae2bd9bd",
        "colab": {
          "base_uri": "https://localhost:8080/",
          "height": 370
        }
      },
      "cell_type": "code",
      "source": [
        "plt.figure(figsize =(7,5))\n",
        "plt.hist(trec_tokenized.doc_length.values, bins = 100, log = True)\n",
        "plt.title('Log Distrubution of Bigram Frequency Between Queries', size = 15)\n",
        "plt.xlabel('Minimum Distance', size = 12)"
      ],
      "execution_count": 0,
      "outputs": [
        {
          "output_type": "execute_result",
          "data": {
            "text/plain": [
              "Text(0.5,0,'Minimum Distance')"
            ]
          },
          "metadata": {
            "tags": []
          },
          "execution_count": 14
        },
        {
          "output_type": "display_data",
          "data": {
            "image/png": "[encoded data removed]",
            "text/plain": [
              "<matplotlib.figure.Figure at 0x7f0886b1bda0>"
            ]
          },
          "metadata": {
            "tags": []
          }
        }
      ]
    },
    {
      "metadata": {
        "id": "jxM3UOTld_Yl",
        "colab_type": "code",
        "outputId": "22b64eb3-b6b3-4a1d-c6bf-60f82869bcf1",
        "colab": {
          "base_uri": "https://localhost:8080/",
          "height": 370
        }
      },
      "cell_type": "code",
      "source": [
        "plt.figure(figsize =(7,5))\n",
        "plt.plot(trec_tokenized.term_freq.loc[trec_tokenized.term_freq >0].values, np.log(trec_tokenized.doc_length.loc[trec_tokenized.term_freq >0].values), 'o')\n",
        "plt.title('Log Document Length Vs Unigram Frequency', size = 15)\n",
        "plt.xlabel('Unigram Frequency', size = 12)\n",
        "plt.ylabel('Log Document Length', size = 12)"
      ],
      "execution_count": 0,
      "outputs": [
        {
          "output_type": "execute_result",
          "data": {
            "text/plain": [
              "Text(0,0.5,'Log Document Length')"
            ]
          },
          "metadata": {
            "tags": []
          },
          "execution_count": 83
        },
        {
          "output_type": "display_data",
          "data": {
            "image/png": "[encoded data removed]",
            "text/plain": [
              "<matplotlib.figure.Figure at 0x7ff2211e8898>"
            ]
          },
          "metadata": {
            "tags": []
          }
        }
      ]
    },
    {
      "metadata": {
        "id": "oqNuWmuZX409",
        "colab_type": "code",
        "outputId": "7e036b19-7046-4edc-9a9b-bb647d88a921",
        "colab": {
          "base_uri": "https://localhost:8080/",
          "height": 370
        }
      },
      "cell_type": "code",
      "source": [
        "plt.figure(figsize =(7,5))\n",
        "plt.plot(trec_tokenized.bigram_freq.loc[trec_tokenized.bigram_freq >0].values, np.log(trec_tokenized.doc_length.loc[trec_tokenized.bigram_freq >0].values), 'o')\n",
        "plt.title('Log Document Length Vs Bigram Frequency', size = 15)\n",
        "plt.xlabel('Bigram Frequency', size = 12)\n",
        "plt.ylabel('Log Document Length', size = 12)"
      ],
      "execution_count": 0,
      "outputs": [
        {
          "output_type": "execute_result",
          "data": {
            "text/plain": [
              "Text(0,0.5,'Log Document Length')"
            ]
          },
          "metadata": {
            "tags": []
          },
          "execution_count": 74
        },
        {
          "output_type": "display_data",
          "data": {
            "image/png": "[encoded data removed]",
            "text/plain": [
              "<matplotlib.figure.Figure at 0x7ff218a52208>"
            ]
          },
          "metadata": {
            "tags": []
          }
        }
      ]
    },
    {
      "metadata": {
        "id": "mQAiQvvBejCi",
        "colab_type": "code",
        "outputId": "08b384bd-e832-4158-c972-6f4f8ba3fbaf",
        "colab": {
          "base_uri": "https://localhost:8080/",
          "height": 370
        }
      },
      "cell_type": "code",
      "source": [
        "plt.figure(figsize =(7,5))\n",
        "plt.plot(trec_tokenized.query_freq.loc[trec_tokenized.query_freq >0].values, np.log(trec_tokenized.doc_length.loc[trec_tokenized.query_freq >0].values), 'o')\n",
        "plt.title('Log Document Length Vs Query Frequency', size = 15)\n",
        "plt.xlabel('Query Frequency', size = 12)\n",
        "plt.ylabel('Log Document Length', size = 12)"
      ],
      "execution_count": 0,
      "outputs": [
        {
          "output_type": "execute_result",
          "data": {
            "text/plain": [
              "Text(0,0.5,'Log Document Length')"
            ]
          },
          "metadata": {
            "tags": []
          },
          "execution_count": 84
        },
        {
          "output_type": "display_data",
          "data": {
            "image/png": "[encoded data removed]",
            "text/plain": [
              "<matplotlib.figure.Figure at 0x7ff2217fe898>"
            ]
          },
          "metadata": {
            "tags": []
          }
        }
      ]
    },
    {
      "metadata": {
        "id": "rkPwWsdnb3_s",
        "colab_type": "code",
        "outputId": "5c20f298-f36a-423b-f5a0-9ed09275aeef",
        "colab": {
          "base_uri": "https://localhost:8080/",
          "height": 370
        }
      },
      "cell_type": "code",
      "source": [
        "plt.figure(figsize =(7,5))\n",
        "plt.plot(trec_tokenized.Min_Dist.loc[trec_tokenized.Min_Dist >0].values, np.log(trec_tokenized.doc_length.loc[trec_tokenized.Min_Dist >0].values), 'o')\n",
        "plt.title('Log Document Length Vs Minimum Distance', size = 15)\n",
        "plt.xlabel('Minimum Distance', size = 12)\n",
        "plt.ylabel('Log Document Length', size = 12)"
      ],
      "execution_count": 0,
      "outputs": [
        {
          "output_type": "execute_result",
          "data": {
            "text/plain": [
              "Text(0,0.5,'Log Document Length')"
            ]
          },
          "metadata": {
            "tags": []
          },
          "execution_count": 73
        },
        {
          "output_type": "display_data",
          "data": {
            "image/png": "[encoded data removed]",
            "text/plain": [
              "<matplotlib.figure.Figure at 0x7ff217fe6630>"
            ]
          },
          "metadata": {
            "tags": []
          }
        }
      ]
    },
    {
      "metadata": {
        "id": "oQwh5fA0X_Vv",
        "colab_type": "code",
        "outputId": "36d1636f-16d5-4e3d-e52f-f794e1994889",
        "colab": {
          "base_uri": "https://localhost:8080/",
          "height": 370
        }
      },
      "cell_type": "code",
      "source": [
        "plt.figure(figsize =(7,5))\n",
        "plt.plot(trec_tokenized.Avg_Dist.loc[trec_tokenized.Avg_Dist >0].values, np.log(trec_tokenized.doc_length.loc[trec_tokenized.Avg_Dist >0].values), 'o')\n",
        "plt.title('Log Document Length Vs Average Distance', size = 15)\n",
        "plt.xlabel('Average Distance', size = 12)\n",
        "plt.ylabel('Log Document Length', size = 12)"
      ],
      "execution_count": 0,
      "outputs": [
        {
          "output_type": "execute_result",
          "data": {
            "text/plain": [
              "Text(0,0.5,'Log Document Length')"
            ]
          },
          "metadata": {
            "tags": []
          },
          "execution_count": 79
        },
        {
          "output_type": "display_data",
          "data": {
            "image/png": "[encoded data removed]",
            "text/plain": [
              "<matplotlib.figure.Figure at 0x7ff21ace0400>"
            ]
          },
          "metadata": {
            "tags": []
          }
        }
      ]
    },
    {
      "metadata": {
        "id": "zJZaKjtBcnoJ",
        "colab_type": "code",
        "outputId": "d5e9fc46-0322-48ea-c2d0-65a6645e7870",
        "colab": {
          "base_uri": "https://localhost:8080/",
          "height": 370
        }
      },
      "cell_type": "code",
      "source": [
        "plt.figure(figsize =(7,5))\n",
        "plt.plot(trec_tokenized.Avg_Dist.loc[trec_tokenized.Avg_Dist >0].values, trec_tokenized.Min_Dist.loc[trec_tokenized.Avg_Dist >0].values, 'o')\n",
        "plt.title('Log Document Length Vs Average Distance', size = 15)\n",
        "plt.xlabel('Average Distance', size = 12)\n",
        "plt.ylabel('Minimum Distance', size = 12)"
      ],
      "execution_count": 0,
      "outputs": [
        {
          "output_type": "execute_result",
          "data": {
            "text/plain": [
              "Text(0,0.5,'Minimum Distance')"
            ]
          },
          "metadata": {
            "tags": []
          },
          "execution_count": 15
        },
        {
          "output_type": "display_data",
          "data": {
            "image/png": "[encoded data removed]",
            "text/plain": [
              "<matplotlib.figure.Figure at 0x7f08868a5dd8>"
            ]
          },
          "metadata": {
            "tags": []
          }
        }
      ]
    },
    {
      "metadata": {
        "id": "YdBD5odMdKVp",
        "colab_type": "code",
        "colab": {}
      },
      "cell_type": "code",
      "source": [
        ""
      ],
      "execution_count": 0,
      "outputs": []
    }
  ]
}